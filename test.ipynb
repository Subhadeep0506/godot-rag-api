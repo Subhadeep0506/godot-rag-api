{
 "cells": [
  {
   "cell_type": "code",
   "execution_count": null,
   "id": "f4f10c42",
   "metadata": {},
   "outputs": [],
   "source": [
    "from dotenv import load_dotenv\n",
    "\n",
    "_ = load_dotenv()\n",
    "\n",
    "from api.core.infisical import InfisicalManagedCredentials\n",
    "\n",
    "secrets_client = InfisicalManagedCredentials()\n",
    "\n",
    "from langchain_core.prompts import (\n",
    "    ChatPromptTemplate,\n",
    "    HumanMessagePromptTemplate,\n",
    "    PromptTemplate,\n",
    ")\n",
    "from typing import Union\n",
    "\n",
    "from langchain_cohere.chat_models import ChatCohere\n",
    "from langchain_google_genai.chat_models import ChatGoogleGenerativeAI\n",
    "from langchain_mistralai.chat_models import ChatMistralAI\n",
    "from langchain_groq.chat_models import ChatGroq\n",
    "from api.services.embeddings_factory import EmbeddingsFactory\n",
    "from api.services.vector_store_factory import VectorStoreFactory\n",
    "from api.services.llm_factory import LLMFactory\n",
    "from api.services.memory_factory import MemoryFactory\n",
    "import api.config.constant as constant\n",
    "from langchain_core.messages import HumanMessage, AIMessage\n",
    "from langchain.memory.chat_message_histories.upstash_redis import (\n",
    "    UpstashRedisChatMessageHistory,\n",
    ")\n",
    "from langchain_astradb.chat_message_histories import AstraDBChatMessageHistory"
   ]
  },
  {
   "cell_type": "code",
   "execution_count": null,
   "id": "0950e0c5",
   "metadata": {},
   "outputs": [],
   "source": [
    "embeddings = EmbeddingsFactory().get_embeddings(\n",
    "    \"sentence-transformers\", \"intfloat/multilingual-e5-large-instruct\"\n",
    ")\n",
    "\n",
    "vector_store = VectorStoreFactory().get_vectorstore(\n",
    "    vectorstore_service=\"astradb\",\n",
    "    embeddings=embeddings,\n",
    ")"
   ]
  },
  {
   "cell_type": "code",
   "execution_count": null,
   "id": "d3a414ad",
   "metadata": {},
   "outputs": [],
   "source": [
    "from langchain_core.documents import Document\n",
    "from typing_extensions import List, TypedDict\n",
    "\n",
    "\n",
    "class State(TypedDict):\n",
    "    question: str\n",
    "    context: List[Document]\n",
    "    chat_history: str\n",
    "    answer: str\n",
    "    session_id: str\n",
    "    category: str\n",
    "    sub_category: str\n",
    "    source: str\n",
    "    memory_service: str\n",
    "    model_name: str\n",
    "    temperature: float\n",
    "    top_k: int\n",
    "    model: Union[ChatCohere, ChatGoogleGenerativeAI, ChatMistralAI, ChatGroq]\n",
    "    memory_instance: Union[UpstashRedisChatMessageHistory, AstraDBChatMessageHistory]"
   ]
  },
  {
   "cell_type": "code",
   "execution_count": null,
   "id": "a365d61b",
   "metadata": {},
   "outputs": [],
   "source": [
    "prompt = ChatPromptTemplate(\n",
    "    messages=[\n",
    "        HumanMessagePromptTemplate(\n",
    "            prompt=PromptTemplate(\n",
    "                input_variables=[\"chat_history\", \"context\", \"question\"],\n",
    "                input_types={},\n",
    "                partial_variables={},\n",
    "                template=constant.SYSTEM_PROMPT,\n",
    "            ),\n",
    "            additional_kwargs={},\n",
    "        )\n",
    "    ],\n",
    ")"
   ]
  },
  {
   "cell_type": "code",
   "execution_count": null,
   "id": "1c4cfaba",
   "metadata": {},
   "outputs": [],
   "source": [
    "def retrieve(state: State):\n",
    "    filters = {\n",
    "        \"category\": state.get(\"category\"),\n",
    "        \"sub_category\": state.get(\"sub_category\"),\n",
    "    }\n",
    "    clean_filter = {k: v for k, v in filters.items() if v}\n",
    "    retrieved_docs = vector_store.as_retriever(\n",
    "        search_type=\"similarity\",\n",
    "        search_kwargs={\n",
    "            \"k\": state.get(\"top_k\"),\n",
    "            \"filter\": clean_filter,\n",
    "        },\n",
    "    ).get_relevant_documents(\n",
    "        query=state[\"question\"],\n",
    "    )\n",
    "    print(\"RETRIEVED DOCS:\", retrieved_docs)\n",
    "    \n",
    "    def _parse_and_flatten_memory(messages: list):\n",
    "        memory_string = \"\"\n",
    "        for message in messages:\n",
    "            if type(message) == HumanMessage:\n",
    "                memory_string += f\"Human: {message.content}\\n\"\n",
    "            elif type(message) == AIMessage:\n",
    "                memory_string += f\"Assistant: {message.content}\\n\\n\"\n",
    "        return memory_string\n",
    "\n",
    "    memory_instance = MemoryFactory().get_memory_instance(\n",
    "        memory_service=state.get(\"memory_service\"),\n",
    "        session_id=state.get(\"session_id\"),\n",
    "    )\n",
    "\n",
    "    chat_history = _parse_and_flatten_memory(\n",
    "        memory_instance.messages\n",
    "    )\n",
    "    model = LLMFactory.get_chat_model(\n",
    "        model_name=state.get(\"model_name\"),\n",
    "        temperature=state.get(\"temperature\", 0.0),\n",
    "    )\n",
    "    return {\"context\": retrieved_docs, \"chat_history\": chat_history, \"model\": model, \"memory_instance\": memory_instance}\n",
    "\n",
    "\n",
    "def generate(state: State):\n",
    "    docs_content = \"\\n\\n\".join(doc.page_content for doc in state[\"context\"])\n",
    "    model = state.get(\"model\")\n",
    "    messages = prompt.invoke(\n",
    "        {\n",
    "            \"question\": state[\"question\"],\n",
    "            \"context\": docs_content,\n",
    "            \"chat_history\": state[\"chat_history\"],\n",
    "        }\n",
    "    )\n",
    "    response = model.invoke(messages)\n",
    "    return {\"answer\": response.content}\n",
    "\n",
    "def add_message_history(state: State):\n",
    "    memory_instance = state.get(\"memory_instance\")\n",
    "    memory_instance.add_user_message(state.get(\"question\"))\n",
    "    memory_instance.add_ai_message(state.get(\"answer\"))\n",
    "    return state"
   ]
  },
  {
   "cell_type": "code",
   "execution_count": null,
   "id": "2a87517b",
   "metadata": {},
   "outputs": [],
   "source": [
    "from langgraph.graph import START, StateGraph, END\n",
    "\n",
    "graph_builder = StateGraph(State).add_sequence([retrieve, generate, add_message_history])\n",
    "graph_builder.add_edge(START, \"retrieve\")\n",
    "graph_builder.add_edge(\"retrieve\", \"generate\")\n",
    "graph_builder.add_edge(\"generate\", \"add_message_history\")\n",
    "graph_builder.add_edge(\"add_message_history\", END)\n",
    "graph = graph_builder.compile()"
   ]
  },
  {
   "cell_type": "code",
   "execution_count": null,
   "id": "2e73a2c1",
   "metadata": {},
   "outputs": [],
   "source": [
    "result = graph.invoke(\n",
    "    {\n",
    "        \"question\": \"How to add 2D sprites in godot 4?\",\n",
    "        \"session_id\": \"8237648732647238\",\n",
    "        \"category\": \"tutorials\",\n",
    "        \"sub_category\": None,\n",
    "        \"memory_service\": \"astradb\",\n",
    "        \"model_name\": \"command-r-plus-08-2024\",\n",
    "        \"temperature\": 0.5,\n",
    "        \"top_k\": 5,\n",
    "    }\n",
    ")\n",
    "\n",
    "print(f\"Context: {result['context']}\")\n",
    "print(f\"Answer: {result['answer']}\")"
   ]
  },
  {
   "cell_type": "code",
   "execution_count": 3,
   "id": "175b4929",
   "metadata": {},
   "outputs": [
    {
     "name": "stderr",
     "output_type": "stream",
     "text": [
      "\u001b[32m2025-10-24 14:14:57.368\u001b[0m | \u001b[1mINFO    \u001b[0m | \u001b[36mapi.utils.rtd_reader\u001b[0m:\u001b[36m__init__\u001b[0m:\u001b[36m14\u001b[0m - \u001b[1mReadTheDocsReader initialized.\u001b[0m\n"
     ]
    },
    {
     "ename": "UnicodeDecodeError",
     "evalue": "'charmap' codec can't decode byte 0x81 in position 1231176: character maps to <undefined>",
     "output_type": "error",
     "traceback": [
      "\u001b[31m---------------------------------------------------------------------------\u001b[39m",
      "\u001b[31mUnicodeDecodeError\u001b[39m                        Traceback (most recent call last)",
      "\u001b[36mCell\u001b[39m\u001b[36m \u001b[39m\u001b[32mIn[3]\u001b[39m\u001b[32m, line 4\u001b[39m\n\u001b[32m      1\u001b[39m \u001b[38;5;28;01mfrom\u001b[39;00m\u001b[38;5;250m \u001b[39m\u001b[34;01mapi\u001b[39;00m\u001b[34;01m.\u001b[39;00m\u001b[34;01mutils\u001b[39;00m\u001b[34;01m.\u001b[39;00m\u001b[34;01mrtd_reader\u001b[39;00m\u001b[38;5;250m \u001b[39m\u001b[38;5;28;01mimport\u001b[39;00m ReadTheDocsReader\n\u001b[32m      3\u001b[39m rtd_loader = ReadTheDocsReader()\n\u001b[32m----> \u001b[39m\u001b[32m4\u001b[39m docs = \u001b[43mrtd_loader\u001b[49m\u001b[43m.\u001b[49m\u001b[43mload\u001b[49m\u001b[43m(\u001b[49m\u001b[43mdirectory\u001b[49m\u001b[43m=\u001b[49m\u001b[33;43m\"\u001b[39;49m\u001b[33;43m./dataset/rtdocs/docs.godotengine.org/en/latest\u001b[39;49m\u001b[33;43m\"\u001b[39;49m\u001b[43m)\u001b[49m\n",
      "\u001b[36mFile \u001b[39m\u001b[32mc:\\Users\\703381054\\Documents\\Godot RAG UI\\backend\\api\\utils\\rtd_reader.py:71\u001b[39m, in \u001b[36mReadTheDocsReader.load\u001b[39m\u001b[34m(self, directory)\u001b[39m\n\u001b[32m     67\u001b[39m \u001b[38;5;28;01mdef\u001b[39;00m\u001b[38;5;250m \u001b[39m\u001b[34mload\u001b[39m(\u001b[38;5;28mself\u001b[39m, directory: \u001b[38;5;28mstr\u001b[39m):\n\u001b[32m     68\u001b[39m \u001b[38;5;250m    \u001b[39m\u001b[33;03m\"\"\"\u001b[39;00m\n\u001b[32m     69\u001b[39m \u001b[33;03m    Load the ReadTheDocs documentation from the specified directory.\u001b[39;00m\n\u001b[32m     70\u001b[39m \u001b[33;03m    \"\"\"\u001b[39;00m\n\u001b[32m---> \u001b[39m\u001b[32m71\u001b[39m     docs = \u001b[38;5;28;43mself\u001b[39;49m\u001b[43m.\u001b[49m\u001b[43m__load_directory\u001b[49m\u001b[43m(\u001b[49m\u001b[43mdirectory\u001b[49m\u001b[43m)\u001b[49m\n\u001b[32m     72\u001b[39m     \u001b[38;5;28;01mreturn\u001b[39;00m docs\n",
      "\u001b[36mFile \u001b[39m\u001b[32mc:\\Users\\703381054\\Documents\\Godot RAG UI\\backend\\api\\utils\\rtd_reader.py:21\u001b[39m, in \u001b[36mReadTheDocsReader.__load_directory\u001b[39m\u001b[34m(self, directory)\u001b[39m\n\u001b[32m     16\u001b[39m \u001b[38;5;28;01mdef\u001b[39;00m\u001b[38;5;250m \u001b[39m\u001b[34m__load_directory\u001b[39m(\u001b[38;5;28mself\u001b[39m, directory: \u001b[38;5;28mstr\u001b[39m):\n\u001b[32m     17\u001b[39m     \u001b[38;5;28mself\u001b[39m.loader = ReadTheDocsLoader(\n\u001b[32m     18\u001b[39m         path=directory,\n\u001b[32m     19\u001b[39m         exclude_links_ratio=\u001b[32m0.5\u001b[39m,\n\u001b[32m     20\u001b[39m     )\n\u001b[32m---> \u001b[39m\u001b[32m21\u001b[39m     docs = \u001b[38;5;28;43mself\u001b[39;49m\u001b[43m.\u001b[49m\u001b[43mloader\u001b[49m\u001b[43m.\u001b[49m\u001b[43mload\u001b[49m\u001b[43m(\u001b[49m\u001b[43m)\u001b[49m\n\u001b[32m     22\u001b[39m     docs = \u001b[38;5;28mself\u001b[39m.__apply_metadata(docs)\n\u001b[32m     23\u001b[39m     docs = \u001b[38;5;28mself\u001b[39m.text_splitter.split_documents(docs)\n",
      "\u001b[36mFile \u001b[39m\u001b[32mc:\\Users\\703381054\\Documents\\Godot RAG UI\\backend\\.venv\\Lib\\site-packages\\langchain_core\\document_loaders\\base.py:32\u001b[39m, in \u001b[36mBaseLoader.load\u001b[39m\u001b[34m(self)\u001b[39m\n\u001b[32m     30\u001b[39m \u001b[38;5;28;01mdef\u001b[39;00m\u001b[38;5;250m \u001b[39m\u001b[34mload\u001b[39m(\u001b[38;5;28mself\u001b[39m) -> \u001b[38;5;28mlist\u001b[39m[Document]:\n\u001b[32m     31\u001b[39m \u001b[38;5;250m    \u001b[39m\u001b[33;03m\"\"\"Load data into Document objects.\"\"\"\u001b[39;00m\n\u001b[32m---> \u001b[39m\u001b[32m32\u001b[39m     \u001b[38;5;28;01mreturn\u001b[39;00m \u001b[38;5;28;43mlist\u001b[39;49m\u001b[43m(\u001b[49m\u001b[38;5;28;43mself\u001b[39;49m\u001b[43m.\u001b[49m\u001b[43mlazy_load\u001b[49m\u001b[43m(\u001b[49m\u001b[43m)\u001b[49m\u001b[43m)\u001b[49m\n",
      "\u001b[36mFile \u001b[39m\u001b[32mc:\\Users\\703381054\\Documents\\Godot RAG UI\\backend\\.venv\\Lib\\site-packages\\langchain_community\\document_loaders\\readthedocs.py:84\u001b[39m, in \u001b[36mReadTheDocsLoader.lazy_load\u001b[39m\u001b[34m(self)\u001b[39m\n\u001b[32m     82\u001b[39m     \u001b[38;5;28;01mcontinue\u001b[39;00m\n\u001b[32m     83\u001b[39m \u001b[38;5;28;01mwith\u001b[39;00m \u001b[38;5;28mopen\u001b[39m(p, encoding=\u001b[38;5;28mself\u001b[39m.encoding, errors=\u001b[38;5;28mself\u001b[39m.errors) \u001b[38;5;28;01mas\u001b[39;00m f:\n\u001b[32m---> \u001b[39m\u001b[32m84\u001b[39m     text = \u001b[38;5;28mself\u001b[39m._clean_data(\u001b[43mf\u001b[49m\u001b[43m.\u001b[49m\u001b[43mread\u001b[49m\u001b[43m(\u001b[49m\u001b[43m)\u001b[49m)\n\u001b[32m     85\u001b[39m \u001b[38;5;28;01myield\u001b[39;00m Document(page_content=text, metadata={\u001b[33m\"\u001b[39m\u001b[33msource\u001b[39m\u001b[33m\"\u001b[39m: \u001b[38;5;28mstr\u001b[39m(p)})\n",
      "\u001b[36mFile \u001b[39m\u001b[32m~\\AppData\\Roaming\\uv\\python\\cpython-3.12.12-windows-x86_64-none\\Lib\\encodings\\cp1252.py:23\u001b[39m, in \u001b[36mIncrementalDecoder.decode\u001b[39m\u001b[34m(self, input, final)\u001b[39m\n\u001b[32m     22\u001b[39m \u001b[38;5;28;01mdef\u001b[39;00m\u001b[38;5;250m \u001b[39m\u001b[34mdecode\u001b[39m(\u001b[38;5;28mself\u001b[39m, \u001b[38;5;28minput\u001b[39m, final=\u001b[38;5;28;01mFalse\u001b[39;00m):\n\u001b[32m---> \u001b[39m\u001b[32m23\u001b[39m     \u001b[38;5;28;01mreturn\u001b[39;00m \u001b[43mcodecs\u001b[49m\u001b[43m.\u001b[49m\u001b[43mcharmap_decode\u001b[49m\u001b[43m(\u001b[49m\u001b[38;5;28;43minput\u001b[39;49m\u001b[43m,\u001b[49m\u001b[38;5;28;43mself\u001b[39;49m\u001b[43m.\u001b[49m\u001b[43merrors\u001b[49m\u001b[43m,\u001b[49m\u001b[43mdecoding_table\u001b[49m\u001b[43m)\u001b[49m[\u001b[32m0\u001b[39m]\n",
      "\u001b[31mUnicodeDecodeError\u001b[39m: 'charmap' codec can't decode byte 0x81 in position 1231176: character maps to <undefined>"
     ]
    }
   ],
   "source": [
    "from api.utils.rtd_reader import ReadTheDocsReader\n",
    "\n",
    "rtd_loader = ReadTheDocsReader()\n",
    "docs = rtd_loader.load(directory=\"./dataset/rtdocs/docs.godotengine.org/en/latest\")"
   ]
  }
 ],
 "metadata": {
  "kernelspec": {
   "display_name": "backend",
   "language": "python",
   "name": "python3"
  },
  "language_info": {
   "codemirror_mode": {
    "name": "ipython",
    "version": 3
   },
   "file_extension": ".py",
   "mimetype": "text/x-python",
   "name": "python",
   "nbconvert_exporter": "python",
   "pygments_lexer": "ipython3",
   "version": "3.12.12"
  }
 },
 "nbformat": 4,
 "nbformat_minor": 5
}
