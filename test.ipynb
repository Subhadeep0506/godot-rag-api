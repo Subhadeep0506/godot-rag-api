{
 "cells": [
  {
   "cell_type": "code",
   "execution_count": 9,
   "id": "f4f10c42",
   "metadata": {},
   "outputs": [
    {
     "name": "stderr",
     "output_type": "stream",
     "text": [
      "2025-10-20 17:12:06 - api.core.infisical - INFO - Fetched secrets metadata from Infisical (values not logged)\n",
      "2025-10-20 17:12:06 - api.core.infisical - INFO - Infisical Managed Credentials initialized\n"
     ]
    }
   ],
   "source": [
    "from dotenv import load_dotenv\n",
    "\n",
    "_ = load_dotenv()\n",
    "\n",
    "from api.core.infisical import InfisicalManagedCredentials\n",
    "\n",
    "secrets_client = InfisicalManagedCredentials()\n",
    "\n",
    "from langchain_core.prompts import (\n",
    "    ChatPromptTemplate,\n",
    "    HumanMessagePromptTemplate,\n",
    "    PromptTemplate,\n",
    ")\n",
    "from api.services.embeddings_factory import EmbeddingsFactory\n",
    "from api.services.vector_store_factory import VectorStoreFactory\n",
    "from api.services.llm_factory import LLMFactory\n",
    "from api.services.memory_factory import MemoryFactory\n",
    "import api.config.constant as constant"
   ]
  },
  {
   "cell_type": "code",
   "execution_count": null,
   "id": "0950e0c5",
   "metadata": {},
   "outputs": [
    {
     "name": "stderr",
     "output_type": "stream",
     "text": [
      "2025-10-20 16:56:55 - api.services.embeddings_factory - INFO - Using Sentence Transformers embeddings model.\n",
      "/home/subhadeepm/Documents/Education/Projects/Python/godot-rag-api/api/services/embeddings_factory.py:28: LangChainDeprecationWarning: The class `HuggingFaceEmbeddings` was deprecated in LangChain 0.2.2 and will be removed in 1.0. An updated version of the class exists in the :class:`~langchain-huggingface package and should be used instead. To use it run `pip install -U :class:`~langchain-huggingface` and import as `from :class:`~langchain_huggingface import HuggingFaceEmbeddings``.\n",
      "  return SentenceTransformerEmbeddings(\n",
      "2025-10-20 16:56:59 - sentence_transformers.SentenceTransformer - INFO - Load pretrained SentenceTransformer: intfloat/multilingual-e5-large-instruct\n",
      "2025-10-20 16:57:24 - api.services.vector_store_factory - INFO - Using AstraDB\n",
      "2025-10-20 16:57:24 - langchain_astradb.vectorstores - INFO - vector store default init, collection 'godot_docs'\n",
      "2025-10-20 16:57:25 - root - INFO - Attempting to fetch keyspace from environment variable 'ASTRA_DB_KEYSPACE'\n",
      "2025-10-20 16:57:25 - root - INFO - Using keyspace 'default_keyspace' from environment variable.\n",
      "2025-10-20 16:57:25 - root - INFO - Detecting API environment 'prod' from supplied endpoint\n",
      "2025-10-20 16:57:25 - astrapy.data.database - INFO - createCollection('godot_docs')\n",
      "2025-10-20 16:57:31 - astrapy.data.database - INFO - finished createCollection('godot_docs')\n",
      "2025-10-20 16:57:31 - api.services.llm_factory - INFO - Using Cohere chat model.\n"
     ]
    }
   ],
   "source": [
    "embeddings = EmbeddingsFactory().get_embeddings(\n",
    "    \"sentence-transformers\", \"intfloat/multilingual-e5-large-instruct\"\n",
    ")\n",
    "\n",
    "vector_store = VectorStoreFactory().get_vectorstore(\n",
    "    vectorstore_service=\"astradb\",\n",
    "    embeddings=embeddings,\n",
    ")\n",
    "\n",
    "model = LLMFactory().get_chat_model(\n",
    "    model_name=\"command-r-plus-08-2024\",\n",
    ")"
   ]
  },
  {
   "cell_type": "code",
   "execution_count": 3,
   "id": "d3a414ad",
   "metadata": {},
   "outputs": [],
   "source": [
    "from langchain_core.documents import Document\n",
    "from typing_extensions import List, TypedDict\n",
    "\n",
    "\n",
    "class State(TypedDict):\n",
    "    question: str\n",
    "    context: List[Document]\n",
    "    answer: str"
   ]
  },
  {
   "cell_type": "code",
   "execution_count": 4,
   "id": "a365d61b",
   "metadata": {},
   "outputs": [],
   "source": [
    "prompt = ChatPromptTemplate(\n",
    "    messages=[\n",
    "        HumanMessagePromptTemplate(\n",
    "            prompt=PromptTemplate(\n",
    "                input_variables=[\"context\", \"question\"],\n",
    "                input_types={},\n",
    "                partial_variables={},\n",
    "                template=constant.SYSTEM_PROMPT,\n",
    "            ),\n",
    "            additional_kwargs={},\n",
    "        )\n",
    "    ],\n",
    ")"
   ]
  },
  {
   "cell_type": "code",
   "execution_count": null,
   "id": "1c4cfaba",
   "metadata": {},
   "outputs": [],
   "source": [
    "def retrieve(state: State):\n",
    "    retrieved_docs = vector_store.similarity_search(state[\"question\"])\n",
    "    session_memory = MemoryFactory().get_memory(\n",
    "        memory_service=\"session\",\n",
    "        session_id=state.get(\"session_id\", \"default_session\"),\n",
    "    )\n",
    "    return {\"context\": retrieved_docs}\n",
    "\n",
    "\n",
    "def generate(state: State):\n",
    "    docs_content = \"\\n\\n\".join(doc.page_content for doc in state[\"context\"])\n",
    "    messages = prompt.invoke({\"question\": state[\"question\"], \"context\": docs_content})\n",
    "    response = model.invoke(messages)\n",
    "    return {\"answer\": response.content}"
   ]
  },
  {
   "cell_type": "code",
   "execution_count": 6,
   "id": "2a87517b",
   "metadata": {},
   "outputs": [],
   "source": [
    "from langgraph.graph import START, StateGraph\n",
    "\n",
    "graph_builder = StateGraph(State).add_sequence([retrieve, generate])\n",
    "graph_builder.add_edge(START, \"retrieve\")\n",
    "graph = graph_builder.compile()"
   ]
  },
  {
   "cell_type": "code",
   "execution_count": null,
   "id": "2e73a2c1",
   "metadata": {},
   "outputs": [
    {
     "name": "stderr",
     "output_type": "stream",
     "text": [
      "2025-10-20 17:13:34 - astrapy.data.cursors.cursor - INFO - cursor fetching a page: (empty page state) from godot_docs\n",
      "2025-10-20 17:13:37 - astrapy.data.cursors.cursor - INFO - cursor finished fetching a page: (empty page state) from godot_docs\n"
     ]
    },
    {
     "name": "stdout",
     "output_type": "stream",
     "text": [
      "Context: [Document(id='6505200e9f3b4ce2b6273b4ee82375f8', metadata={'category': 'conversation', 'source': 'ImJimmeh/godot-training'}, page_content=\"# instruction\\nWhat needs to be done to add more animations to a 2D sprite in Godot?\\n# input\\n# output\\nTo add more animations to a 2D sprite: 1. Open the SpriteFrames resource in the editor. 2. Click the 'Add Animation' button. 3. Drag and drop additional images into the newly created animation slot. You can then control these animations via script similarly using `play()` and `stop()`. Example: ```gdscript\\n@onready var _animated_sprite = $AnimatedSprite2D\\nfunc play_animation(anim_name):\\n    _animated_sprite.play(anim_name)\\n```\"), Document(id='32f621d511af4b59aaa4d14e43bf7ed8', metadata={'category': 'conversation', 'source': 'glaiveai/godot_4_docs'}, page_content=\"# prompt\\nHow do you create and manipulate animations for a 2D sprite in Godot using AnimatedSprite2D?\\n# response\\nTo create and manipulate animations for a 2D sprite in Godot using AnimatedSprite2D, you first need to create an AnimatedSprite2D node and assign it a SpriteFrames resource, which holds the animations. You can import image files or a folder containing the files into the SpriteFrames resource for your animation frames. This resource can be edited via the SpriteFrames bottom panel in the editor. Here's a step-by-step guide:\\n1. **Create an AnimatedSprite2D Node**\\n   Create an AnimatedSprite2D node in your scene. This node will handle the display and manipulation of your animations.\\n2. **Assign SpriteFrames**\\n   Create a new SpriteFrames resource in the AnimatedSprite2D properties or assign an existing one. This resource contains your animation frames and animations.\\n3. **Import Frames**\"), Document(id='b4cfe0de8a0b4f82b455b8ac98c36738', metadata={'category': 'conversation', 'source': 'glaiveai/godot_4_docs'}, page_content='- They cannot cast shadows.\\n- Normal and specular maps on other sprites are ignored by additive sprites.\\nTo set up an additive sprite in Godot:\\n1. Create a `Sprite2D` node in your scene.\\n2. Assign a texture to it that you want to appear as if it\\'s emitting light.\\n3. In the inspector, find the **CanvasItem > Material** section, unfold it, and click the dropdown next to the **Material** property.\\n4. Choose **New CanvasItemMaterial**.\\n5. Click the newly created material to edit it, then set **Blend Mode** to **Add**.\\nThis setup allows the sprite to blend additively with the background, simulating a light effect. Here\\'s an example in GDScript:\\n```gdscript\\nvar sprite = Sprite2D.new()\\nsprite.texture = preload(\"path_to_your_texture.webp\")\\nvar material = CanvasItemMaterial.new()\\nmaterial.blend_mode = CanvasItemMaterial.BLEND_MODE_ADD\\nsprite.material = material\\nadd_child(sprite)\\n```'), Document(id='3a90ba03b64c4e4bbab65ed19dc9fbd5', metadata={'category': 'conversation', 'source': 'glaiveai/godot_4_docs'}, page_content='# prompt\\nWhat are the advantages of using additive sprites over 2D lights in Godot for certain scenarios, and how can you set up an additive sprite?\\n# response\\nAdditive sprites offer a faster alternative to 2D lights in Godot, particularly suited for short-lived dynamic effects such as bullets or explosions. The advantages of using additive sprites over 2D lights include:\\n- **Performance:** Additive sprites are much faster to render as they don\\'t require a separate rendering pipeline for lights.\\n- **Ease of Use:** They can be easily animated using `AnimatedSprite2D` or `Sprite2D` with `AnimationPlayer`, allowing for dynamic \"light\" effects.\\nHowever, there are downsides to consider:\\n- Additive sprites use a blending formula that is less accurate than real lighting, which can be noticeable in fully dark areas.\\n- They cannot cast shadows.\\n- Normal and specular maps on other sprites are ignored by additive sprites.\\nTo set up an additive sprite in Godot:')]\n",
      "\n",
      "\n",
      "Answer: Sorry, I don't have enough context to answer your question about adding 2D sprites in Godot 4. The provided context seems to be focused on animations and additive sprites, rather than the general process of adding 2D sprites.\n",
      "\n",
      "Here's a similar question you might be interested in: \n",
      "- How do I create and use animations with 2D sprites in Godot?\n",
      "\n",
      "I can provide more specific details if you have any further questions related to animations or additive sprites in Godot.\n"
     ]
    }
   ],
   "source": [
    "result = graph.invoke(\n",
    "    {\n",
    "        \"question\": \"How to add 2D sprites in godot 4?\",\n",
    "        \"session_id\": \"8237648732647238\",\n",
    "        \"category\": \"tutorials\",\n",
    "        \"sub_category\": \"None\",\n",
    "        \"memory_service\": \"astradb\",\n",
    "        \"top_k\": 5,\n",
    "        \"model_name\": \"command-r-plus-08-2024\",\n",
    "    }\n",
    ")\n",
    "\n",
    "print(f\"Context: {result['context']}\")\n",
    "print(f\"Answer: {result['answer']}\")"
   ]
  },
  {
   "cell_type": "code",
   "execution_count": 8,
   "id": "66e9ab58",
   "metadata": {},
   "outputs": [
    {
     "data": {
      "text/plain": [
       "{'question': 'How to add 2D sprites in godot 4?',\n",
       " 'context': [Document(id='6505200e9f3b4ce2b6273b4ee82375f8', metadata={'category': 'conversation', 'source': 'ImJimmeh/godot-training'}, page_content=\"# instruction\\nWhat needs to be done to add more animations to a 2D sprite in Godot?\\n# input\\n# output\\nTo add more animations to a 2D sprite: 1. Open the SpriteFrames resource in the editor. 2. Click the 'Add Animation' button. 3. Drag and drop additional images into the newly created animation slot. You can then control these animations via script similarly using `play()` and `stop()`. Example: ```gdscript\\n@onready var _animated_sprite = $AnimatedSprite2D\\nfunc play_animation(anim_name):\\n    _animated_sprite.play(anim_name)\\n```\"),\n",
       "  Document(id='32f621d511af4b59aaa4d14e43bf7ed8', metadata={'category': 'conversation', 'source': 'glaiveai/godot_4_docs'}, page_content=\"# prompt\\nHow do you create and manipulate animations for a 2D sprite in Godot using AnimatedSprite2D?\\n# response\\nTo create and manipulate animations for a 2D sprite in Godot using AnimatedSprite2D, you first need to create an AnimatedSprite2D node and assign it a SpriteFrames resource, which holds the animations. You can import image files or a folder containing the files into the SpriteFrames resource for your animation frames. This resource can be edited via the SpriteFrames bottom panel in the editor. Here's a step-by-step guide:\\n1. **Create an AnimatedSprite2D Node**\\n   Create an AnimatedSprite2D node in your scene. This node will handle the display and manipulation of your animations.\\n2. **Assign SpriteFrames**\\n   Create a new SpriteFrames resource in the AnimatedSprite2D properties or assign an existing one. This resource contains your animation frames and animations.\\n3. **Import Frames**\"),\n",
       "  Document(id='b4cfe0de8a0b4f82b455b8ac98c36738', metadata={'category': 'conversation', 'source': 'glaiveai/godot_4_docs'}, page_content='- They cannot cast shadows.\\n- Normal and specular maps on other sprites are ignored by additive sprites.\\nTo set up an additive sprite in Godot:\\n1. Create a `Sprite2D` node in your scene.\\n2. Assign a texture to it that you want to appear as if it\\'s emitting light.\\n3. In the inspector, find the **CanvasItem > Material** section, unfold it, and click the dropdown next to the **Material** property.\\n4. Choose **New CanvasItemMaterial**.\\n5. Click the newly created material to edit it, then set **Blend Mode** to **Add**.\\nThis setup allows the sprite to blend additively with the background, simulating a light effect. Here\\'s an example in GDScript:\\n```gdscript\\nvar sprite = Sprite2D.new()\\nsprite.texture = preload(\"path_to_your_texture.webp\")\\nvar material = CanvasItemMaterial.new()\\nmaterial.blend_mode = CanvasItemMaterial.BLEND_MODE_ADD\\nsprite.material = material\\nadd_child(sprite)\\n```'),\n",
       "  Document(id='3a90ba03b64c4e4bbab65ed19dc9fbd5', metadata={'category': 'conversation', 'source': 'glaiveai/godot_4_docs'}, page_content='# prompt\\nWhat are the advantages of using additive sprites over 2D lights in Godot for certain scenarios, and how can you set up an additive sprite?\\n# response\\nAdditive sprites offer a faster alternative to 2D lights in Godot, particularly suited for short-lived dynamic effects such as bullets or explosions. The advantages of using additive sprites over 2D lights include:\\n- **Performance:** Additive sprites are much faster to render as they don\\'t require a separate rendering pipeline for lights.\\n- **Ease of Use:** They can be easily animated using `AnimatedSprite2D` or `Sprite2D` with `AnimationPlayer`, allowing for dynamic \"light\" effects.\\nHowever, there are downsides to consider:\\n- Additive sprites use a blending formula that is less accurate than real lighting, which can be noticeable in fully dark areas.\\n- They cannot cast shadows.\\n- Normal and specular maps on other sprites are ignored by additive sprites.\\nTo set up an additive sprite in Godot:')],\n",
       " 'answer': 'Sorry, I don\\'t have enough context to answer your question about adding 2D sprites in Godot 4. The provided context focuses on adding animations to 2D sprites and setting up additive sprites, but it doesn\\'t cover the initial process of adding 2D sprites. \\n\\nHere\\'s a similar question you might want to ask based on the context: \\n\\n\"How can I create an AnimatedSprite2D node and assign SpriteFrames to it in Godot?\"'}"
      ]
     },
     "execution_count": 8,
     "metadata": {},
     "output_type": "execute_result"
    }
   ],
   "source": [
    "result"
   ]
  }
 ],
 "metadata": {
  "kernelspec": {
   "display_name": "godot-rag-api (3.12.12)",
   "language": "python",
   "name": "python3"
  },
  "language_info": {
   "codemirror_mode": {
    "name": "ipython",
    "version": 3
   },
   "file_extension": ".py",
   "mimetype": "text/x-python",
   "name": "python",
   "nbconvert_exporter": "python",
   "pygments_lexer": "ipython3",
   "version": "3.12.12"
  }
 },
 "nbformat": 4,
 "nbformat_minor": 5
}
